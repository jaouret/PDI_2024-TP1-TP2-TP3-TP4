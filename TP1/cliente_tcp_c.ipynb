{
 "cells": [
  {
   "cell_type": "markdown",
   "metadata": {},
   "source": [
    "# Cliente TCP en C usando Jupyter Notebook\n",
    "Este notebook muestra cómo ejecutar un cliente TCP en **C** dentro de Jupyter Notebook.\n",
    "\n",
    "### Ejercicios\n",
    "1. **Cómo funciona un cliente TCP en C**\n",
    "2. **Cómo compilar y ejecutar código C en Jupyter usando `gcc`**\n",
    "3. **Cómo conectarse a un servidor TCP local**\n"
   ]
  },
  {
   "cell_type": "markdown",
   "metadata": {},
   "source": [
    "## 1. Instalación de herramientas necesarias\n",
    "Para compilar y ejecutar código en C, necesitamos `gcc`. Verificar si está instalado ejecutando:\n"
   ]
  },
  {
   "cell_type": "code",
   "execution_count": null,
   "metadata": {},
   "outputs": [],
   "source": [
    "!gcc --version"
   ]
  },
  {
   "cell_type": "markdown",
   "metadata": {},
   "source": [
    "## 2. Código del Cliente TCP en C\n",
    "Guardar el código en un archivo `cliente.c` para luego compilarlo y ejecutarlo."
   ]
  },
  {
   "cell_type": "code",
   "execution_count": null,
   "metadata": {},
   "outputs": [],
   "source": [
    "%%writefile cliente.c\n",
    "#include <arpa/inet.h> // inet_addr()\n",
    "#include <netdb.h>\n",
    "#include <stdio.h>\n",
    "#include <stdlib.h>\n",
    "#include <string.h>\n",
    "#include <strings.h> // bzero()\n",
    "#include <sys/socket.h>\n",
    "#include <unistd.h> // read(), write(), close()\n",
    "#define MAX 80\n",
    "#define PORT 8080\n",
    "#define SA struct sockaddr\n",
    "\n",
    "void func(int sockfd) {\n",
    "    char buff[MAX];\n",
    "    int n;\n",
    "    for (;;) {\n",
    "        bzero(buff, sizeof(buff));\n",
    "        printf(\"Ingrese texto : \");\n",
    "        n = 0;\n",
    "        while ((buff[n++] = getchar()) != '\\n');\n",
    "        write(sockfd, buff, sizeof(buff));\n",
    "        bzero(buff, sizeof(buff));\n",
    "        read(sockfd, buff, sizeof(buff));\n",
    "        printf(\"Servidor : %s\", buff);\n",
    "        if ((strncmp(buff, \"exit\", 4)) == 0) {\n",
    "            printf(\"Cliente cierra conexión...\\n\");\n",
    "            break;\n",
    "        }\n",
    "    }\n",
    "}\n",
    "\n",
    "int main() {\n",
    "    int sockfd;\n",
    "    struct sockaddr_in servaddr;\n",
    "\n",
    "    sockfd = socket(AF_INET, SOCK_STREAM, 0);\n",
    "    if (sockfd == -1) {\n",
    "        printf(\"Falla la creación del socket...\\n\");\n",
    "        exit(0);\n",
    "    }\n",
    "    else\n",
    "        printf(\"Socket creado ..\\n\");\n",
    "    bzero(&servaddr, sizeof(servaddr));\n",
    "\n",
    "    servaddr.sin_family = AF_INET;\n",
    "    servaddr.sin_addr.s_addr = inet_addr(\"127.0.0.1\");\n",
    "    servaddr.sin_port = htons(PORT);\n",
    "\n",
    "    if (connect(sockfd, (SA*)&servaddr, sizeof(servaddr)) != 0) {\n",
    "        printf(\"Falla de conexión con servidor...\\n\");\n",
    "        exit(0);\n",
    "    }\n",
    "    else\n",
    "        printf(\"Conectado al servidor..\\n\");\n",
    "\n",
    "    func(sockfd);\n",
    "    close(sockfd);\n",
    "}"
   ]
  },
  {
   "cell_type": "markdown",
   "metadata": {},
   "source": [
    "## 3. Compilar el Cliente TCP\n",
    "Ejecutar el siguiente comando para compilar el programa C:"
   ]
  },
  {
   "cell_type": "code",
   "execution_count": 4,
   "metadata": {},
   "outputs": [],
   "source": [
    "!gcc cliente.c -o cliente"
   ]
  },
  {
   "cell_type": "markdown",
   "metadata": {},
   "source": [
    "## 4. Ejecutar el Cliente TCP\n",
    "Antes de ejecutar el cliente, asegúrate de que un **servidor TCP** esté corriendo en `127.0.0.1:8080`. \n",
    "Ejecutar el cliente con:"
   ]
  },
  {
   "cell_type": "code",
   "execution_count": 5,
   "metadata": {},
   "outputs": [
    {
     "name": "stdout",
     "output_type": "stream",
     "text": [
      "Socket creado ..\n",
      "Falla de conexión con servidor...\n"
     ]
    }
   ],
   "source": [
    "!./cliente"
   ]
  },
  {
   "cell_type": "markdown",
   "metadata": {},
   "source": [
    "## Repaso\n",
    "- Creamos un **cliente TCP en C** dentro de Jupyter Notebook.\n",
    "- Vimos como **compilar y ejecutar código C** dentro de Jupyter usando `gcc`.\n",
    "- Probamos el código con un **servidor TCP** en `127.0.0.1:8080`."
   ]
  }
 ],
 "metadata": {
  "kernelspec": {
   "display_name": "Python 3 (ipykernel)",
   "language": "python",
   "name": "python3"
  },
  "language_info": {
   "codemirror_mode": {
    "name": "ipython",
    "version": 3
   },
   "file_extension": ".py",
   "mimetype": "text/x-python",
   "name": "python",
   "nbconvert_exporter": "python",
   "pygments_lexer": "ipython3",
   "version": "3.12.7"
  }
 },
 "nbformat": 4,
 "nbformat_minor": 4
}

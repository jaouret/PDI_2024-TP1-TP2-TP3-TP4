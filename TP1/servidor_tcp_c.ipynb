{
 "cells": [
  {
   "cell_type": "markdown",
   "metadata": {},
   "source": [
    "# Servidor TCP en C \n",
    "\n",
    "Compilación y ejecución de un servidor TCP en C en Linux.\n",
    "Tener instalado `gcc` antes de continuar."
   ]
  },
  {
   "cell_type": "code",
   "execution_count": null,
   "metadata": {},
   "outputs": [],
   "source": [
    "# Verificamos si gcc está instalado\n",
    "!gcc --version"
   ]
  },
  {
   "cell_type": "markdown",
   "metadata": {},
   "source": [
    "## 1. Creación del archivo fuente\n",
    "Guardar el código en un archivo llamado `servidor.c`."
   ]
  },
  {
   "cell_type": "code",
   "execution_count": null,
   "metadata": {},
   "outputs": [],
   "source": [
    "%%writefile servidor.c\n",
    "#include <stdio.h>\n",
    "#include <netdb.h>\n",
    "#include <netinet/in.h>\n",
    "#include <stdlib.h>\n",
    "#include <string.h>\n",
    "#include <sys/socket.h>\n",
    "#include <sys/types.h>\n",
    "#include <unistd.h> // read(), write(), close()\n",
    "\n",
    "#define MAX 80\n",
    "#define PORT 8080\n",
    "#define SA struct sockaddr\n",
    "\n",
    "void func(int connfd) {\n",
    "    char buff[MAX];\n",
    "    int n;\n",
    "    for (;;) {\n",
    "        bzero(buff, MAX);\n",
    "        read(connfd, buff, sizeof(buff));\n",
    "        printf(\"Del cliente: %s\\t: \", buff);\n",
    "        bzero(buff, MAX);\n",
    "        n = 0;\n",
    "        while ((buff[n++] = getchar()) != '\\n');\n",
    "        write(connfd, buff, sizeof(buff));\n",
    "        if (strncmp(\"SALIR\", buff, 4) == 0) {\n",
    "            printf(\"Salgo del servidor...\\n\");\n",
    "            break;\n",
    "        }\n",
    "    }\n",
    "}\n",
    "\n",
    "int main() {\n",
    "    int sockfd, connfd, len;\n",
    "    struct sockaddr_in servaddr, cli;\n",
    "    \n",
    "    sockfd = socket(AF_INET, SOCK_STREAM, 0);\n",
    "    if (sockfd == -1) {\n",
    "        printf(\"Falla la creación del socket...\\n\");\n",
    "        exit(0);\n",
    "    }\n",
    "    printf(\"Socket creado...\\n\");\n",
    "    bzero(&servaddr, sizeof(servaddr));\n",
    "    \n",
    "    servaddr.sin_family = AF_INET;\n",
    "    servaddr.sin_addr.s_addr = htonl(INADDR_ANY);\n",
    "    servaddr.sin_port = htons(PORT);\n",
    "    \n",
    "    if ((bind(sockfd, (SA*)&servaddr, sizeof(servaddr))) != 0) {\n",
    "        printf(\"Falla socket bind ...\\n\");\n",
    "        exit(0);\n",
    "    }\n",
    "    printf(\"Se hace el socket bind ..\\n\");\n",
    "    \n",
    "    if ((listen(sockfd, 5)) != 0) {\n",
    "        printf(\"Falla el listen ...\\n\");\n",
    "        exit(0);\n",
    "    }\n",
    "    printf(\"Servidor en modo escucha ...\\n\");\n",
    "    len = sizeof(cli);\n",
    "    \n",
    "    connfd = accept(sockfd, (SA*)&cli, &len);\n",
    "    if (connfd < 0) {\n",
    "        printf(\"Falla al aceptar datos en el servidor...\\n\");\n",
    "        exit(0);\n",
    "    }\n",
    "    printf(\"El servidor acepta al cliente ...\\n\");\n",
    "    \n",
    "    func(connfd);\n",
    "    close(sockfd);\n",
    "}"
   ]
  },
  {
   "cell_type": "markdown",
   "metadata": {},
   "source": [
    "## 2. Compilar el código\n",
    "Compilar el código para verificar que no haya errores."
   ]
  },
  {
   "cell_type": "code",
   "execution_count": null,
   "metadata": {},
   "outputs": [],
   "source": [
    "!gcc servidor.c -o servidor"
   ]
  },
  {
   "cell_type": "markdown",
   "metadata": {},
   "source": [
    "Si la compilación fue exitosa, podemos ejecutar el servidor."
   ]
  },
  {
   "cell_type": "code",
   "execution_count": null,
   "metadata": {
    "scrolled": true
   },
   "outputs": [],
   "source": [
    "# Ejecutamos el servidor en segundo plano . ATENCION: ejecutar por fuera del Notebook desde una terminal\n",
    "!./servidor &"
   ]
  },
  {
   "cell_type": "markdown",
   "metadata": {
    "jp-MarkdownHeadingCollapsed": true
   },
   "source": [
    "## 3. Probar el servidor\n",
    "Para conectarnos al servidor, usar `telnet` o `netcat` desde otra terminal.\n",
    "Ejecutar el siguiente comando en una terminal aparte para conectarse al servidor:\n",
    "```\n",
    "nc 127.0.0.1 8080\n",
    "```\n",
    "Luego, escribir un mensaje y presionar Enter para enviarlo al servidor."
   ]
  },
  {
   "cell_type": "markdown",
   "metadata": {},
   "source": [
    "## P4. Detener el servidor\n",
    "De ser necesario usar este comando:\n",
    "```\n",
    "!pkill servidor\n",
    "```"
   ]
  },
  {
   "cell_type": "code",
   "execution_count": null,
   "metadata": {},
   "outputs": [],
   "source": []
  }
 ],
 "metadata": {
  "kernelspec": {
   "display_name": "Python 3 (ipykernel)",
   "language": "python",
   "name": "python3"
  },
  "language_info": {
   "codemirror_mode": {
    "name": "ipython",
    "version": 3
   },
   "file_extension": ".py",
   "mimetype": "text/x-python",
   "name": "python",
   "nbconvert_exporter": "python",
   "pygments_lexer": "ipython3",
   "version": "3.12.7"
  }
 },
 "nbformat": 4,
 "nbformat_minor": 4
}
